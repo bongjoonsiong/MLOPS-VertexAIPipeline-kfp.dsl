{
  "nbformat": 4,
  "nbformat_minor": 0,
  "metadata": {
    "colab": {
      "provenance": [],
      "authorship_tag": "ABX9TyMl3d9meaqX1C2vyj1byL5f",
      "include_colab_link": true
    },
    "kernelspec": {
      "name": "python3",
      "display_name": "Python 3"
    },
    "language_info": {
      "name": "python"
    }
  },
  "cells": [
    {
      "cell_type": "markdown",
      "metadata": {
        "id": "view-in-github",
        "colab_type": "text"
      },
      "source": [
        "<a href=\"https://colab.research.google.com/github/bongjoonsiong/MLOPS-VertexAIPipeline-kfp.dsl/blob/main/MLOPS_VertexAI_kfp_dsl.ipynb\" target=\"_parent\"><img src=\"https://colab.research.google.com/assets/colab-badge.svg\" alt=\"Open In Colab\"/></a>"
      ]
    },
    {
      "cell_type": "code",
      "execution_count": null,
      "metadata": {
        "id": "VbgyT4N0eriV"
      },
      "outputs": [],
      "source": [
        "import kfp.dsl as dsl\n",
        "from kfp.dsl import pipeline, component\n",
        "\n",
        "# Define a KFP component (a simple function)\n",
        "@component\n",
        "def add_numbers(a: int, b: int) -> int:\n",
        "    return a + b\n",
        "\n",
        "# Define a KFP pipeline using the dsl.pipeline decorator\n",
        "@pipeline(name=\"SimpleMathPipeline\", description=\"A simple math pipeline\")\n",
        "def simple_math_pipeline(\n",
        "    a: int = 5,  # Default value for parameter 'a'\n",
        "    b: int = 3   # Default value for parameter 'b'\n",
        "):\n",
        "    # Step 1: Use the 'add_numbers' component\n",
        "    step1_result = add_numbers(a=a, b=b)\n",
        "\n",
        "    # Step 2: Another step (e.g., print the result)\n",
        "    @dsl.python_component\n",
        "    def print_result(result: int):\n",
        "        print(f\"The result is: {result}\")\n",
        "\n",
        "    print_step = print_result(step1_result)\n",
        "\n",
        "# Compile the pipeline\n",
        "pipeline_filename = \"simple_math_pipeline.yaml\"\n",
        "kfp.compiler.Compiler().compile(simple_math_pipeline, pipeline_filename)\n",
        "\n",
        "# The compiled pipeline file (simple_math_pipeline.yaml) can now be uploaded and executed in Kubeflow Pipelines.\n"
      ]
    }
  ]
}